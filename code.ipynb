{
 "cells": [
  {
   "attachments": {},
   "cell_type": "markdown",
   "metadata": {},
   "source": [
    "Importação de todos os pacotes que serão utilizados ao longo do modelo."
   ]
  },
  {
   "cell_type": "code",
   "execution_count": 1,
   "metadata": {},
   "outputs": [],
   "source": [
    "import pandas as pd\n",
    "from sklearn.model_selection import train_test_split\n",
    "from sklearn.feature_extraction.text import TfidfVectorizer\n",
    "from sklearn.svm import SVC\n",
    "from sklearn.tree import DecisionTreeClassifier\n",
    "from sklearn.naive_bayes import GaussianNB\n",
    "from sklearn.linear_model import LogisticRegression\n",
    "from sklearn.metrics import f1_score\n",
    "from sklearn.metrics import classification_report\n",
    "from sklearn.metrics import confusion_matrix\n"
   ]
  },
  {
   "cell_type": "code",
   "execution_count": 2,
   "metadata": {},
   "outputs": [
    {
     "data": {
      "text/plain": [
       "sentiment\n",
       "negative    25000\n",
       "positive    25000\n",
       "Name: count, dtype: int64"
      ]
     },
     "execution_count": 2,
     "metadata": {},
     "output_type": "execute_result"
    }
   ],
   "source": [
    "#leitura dos dados\n",
    "df_review = pd.read_csv(\"IMDB Dataset.csv\")\n",
    "#checagem do balanceamento\n",
    "df_review.value_counts(subset='sentiment')"
   ]
  },
  {
   "attachments": {},
   "cell_type": "markdown",
   "metadata": {},
   "source": [
    "Dataset já veio perfeitamente balanceado. Nesse caso, não há necessidade de tomar qualquer ação nesse sentido.  \n",
    "De forma semelhante, os dados já estão limpos, não exigindo esse passo tampouco."
   ]
  },
  {
   "cell_type": "code",
   "execution_count": 3,
   "metadata": {},
   "outputs": [],
   "source": [
    "#separação dos dados em treino e teste, utilizando proporção 80/20\n",
    "treino, teste = train_test_split(df_review, test_size=0.2, random_state=42)\n",
    "treino_x, treino_y = treino['review'], treino['sentiment']\n",
    "teste_x, teste_y = teste['review'], teste['sentiment']"
   ]
  },
  {
   "attachments": {},
   "cell_type": "markdown",
   "metadata": {},
   "source": [
    "treino_x: variáveis independentes (review/análises) utilizadas para treinar o modelo. \n",
    "treino_y: variáveis dependentes/labels (sentiment) que o modelo deve prever.  \n",
    "teste_x: variáveis independentes que serão utilizadas para teste de precisão do modelo.  \n",
    "teste_y: labels/etiquetas usadas para testar a precisão da previsão do modelo contra as categorias de fato"
   ]
  },
  {
   "attachments": {},
   "cell_type": "markdown",
   "metadata": {},
   "source": [
    "Para transformar a representação textual em vetores numéricos, utilizaremos a técnica de bag of words (BOW).  \n",
    "A escolha se dá por: 1) a frequência das palavras nas análises importa, podendo ser indicador de seu sentimento; 2) a ordem em si das palavras possui menor relevância.  \n",
    "A BOW será representada por Term Frequency, Inverse Document Frequency (TF-IDF), forma de ponderar o peso de cada palavra de um documento (no caso, análise individual) levando em conta sua presença no corpus total (o conjunto de documentos/análises)."
   ]
  },
  {
   "cell_type": "code",
   "execution_count": 4,
   "metadata": {},
   "outputs": [
    {
     "data": {
      "text/plain": [
       "<40000x92692 sparse matrix of type '<class 'numpy.float64'>'\n",
       "\twith 3543198 stored elements in Compressed Sparse Row format>"
      ]
     },
     "execution_count": 4,
     "metadata": {},
     "output_type": "execute_result"
    }
   ],
   "source": [
    "tfidf = TfidfVectorizer(stop_words='english') #remoção de stop words/palavras vazias da língua inglesa\n",
    "treino_x_vetor = tfidf.fit_transform(treino_x) #encontra parâmetros internos do modelo e os aplica, vetorizando o treino\n",
    "teste_x_vetor = tfidf.transform(teste_x) #apenas vetoriza o teste para uso\n",
    "treino_x_vetor"
   ]
  },
  {
   "attachments": {},
   "cell_type": "markdown",
   "metadata": {},
   "source": [
    "Teste de diferentes modelos de aprendizagem supervisionada (classificação) para selecionar aquele com maior precisão. Testaremos Support Vector Machines (SVM), árvore de decisões, e regressão logística, comparando suas precisões médias (mean accuracy), F1 score, classification report e matriz de confusão."
   ]
  },
  {
   "cell_type": "code",
   "execution_count": 5,
   "metadata": {},
   "outputs": [
    {
     "data": {
      "text/html": [
       "<style>#sk-container-id-1 {color: black;background-color: white;}#sk-container-id-1 pre{padding: 0;}#sk-container-id-1 div.sk-toggleable {background-color: white;}#sk-container-id-1 label.sk-toggleable__label {cursor: pointer;display: block;width: 100%;margin-bottom: 0;padding: 0.3em;box-sizing: border-box;text-align: center;}#sk-container-id-1 label.sk-toggleable__label-arrow:before {content: \"▸\";float: left;margin-right: 0.25em;color: #696969;}#sk-container-id-1 label.sk-toggleable__label-arrow:hover:before {color: black;}#sk-container-id-1 div.sk-estimator:hover label.sk-toggleable__label-arrow:before {color: black;}#sk-container-id-1 div.sk-toggleable__content {max-height: 0;max-width: 0;overflow: hidden;text-align: left;background-color: #f0f8ff;}#sk-container-id-1 div.sk-toggleable__content pre {margin: 0.2em;color: black;border-radius: 0.25em;background-color: #f0f8ff;}#sk-container-id-1 input.sk-toggleable__control:checked~div.sk-toggleable__content {max-height: 200px;max-width: 100%;overflow: auto;}#sk-container-id-1 input.sk-toggleable__control:checked~label.sk-toggleable__label-arrow:before {content: \"▾\";}#sk-container-id-1 div.sk-estimator input.sk-toggleable__control:checked~label.sk-toggleable__label {background-color: #d4ebff;}#sk-container-id-1 div.sk-label input.sk-toggleable__control:checked~label.sk-toggleable__label {background-color: #d4ebff;}#sk-container-id-1 input.sk-hidden--visually {border: 0;clip: rect(1px 1px 1px 1px);clip: rect(1px, 1px, 1px, 1px);height: 1px;margin: -1px;overflow: hidden;padding: 0;position: absolute;width: 1px;}#sk-container-id-1 div.sk-estimator {font-family: monospace;background-color: #f0f8ff;border: 1px dotted black;border-radius: 0.25em;box-sizing: border-box;margin-bottom: 0.5em;}#sk-container-id-1 div.sk-estimator:hover {background-color: #d4ebff;}#sk-container-id-1 div.sk-parallel-item::after {content: \"\";width: 100%;border-bottom: 1px solid gray;flex-grow: 1;}#sk-container-id-1 div.sk-label:hover label.sk-toggleable__label {background-color: #d4ebff;}#sk-container-id-1 div.sk-serial::before {content: \"\";position: absolute;border-left: 1px solid gray;box-sizing: border-box;top: 0;bottom: 0;left: 50%;z-index: 0;}#sk-container-id-1 div.sk-serial {display: flex;flex-direction: column;align-items: center;background-color: white;padding-right: 0.2em;padding-left: 0.2em;position: relative;}#sk-container-id-1 div.sk-item {position: relative;z-index: 1;}#sk-container-id-1 div.sk-parallel {display: flex;align-items: stretch;justify-content: center;background-color: white;position: relative;}#sk-container-id-1 div.sk-item::before, #sk-container-id-1 div.sk-parallel-item::before {content: \"\";position: absolute;border-left: 1px solid gray;box-sizing: border-box;top: 0;bottom: 0;left: 50%;z-index: -1;}#sk-container-id-1 div.sk-parallel-item {display: flex;flex-direction: column;z-index: 1;position: relative;background-color: white;}#sk-container-id-1 div.sk-parallel-item:first-child::after {align-self: flex-end;width: 50%;}#sk-container-id-1 div.sk-parallel-item:last-child::after {align-self: flex-start;width: 50%;}#sk-container-id-1 div.sk-parallel-item:only-child::after {width: 0;}#sk-container-id-1 div.sk-dashed-wrapped {border: 1px dashed gray;margin: 0 0.4em 0.5em 0.4em;box-sizing: border-box;padding-bottom: 0.4em;background-color: white;}#sk-container-id-1 div.sk-label label {font-family: monospace;font-weight: bold;display: inline-block;line-height: 1.2em;}#sk-container-id-1 div.sk-label-container {text-align: center;}#sk-container-id-1 div.sk-container {/* jupyter's `normalize.less` sets `[hidden] { display: none; }` but bootstrap.min.css set `[hidden] { display: none !important; }` so we also need the `!important` here to be able to override the default hidden behavior on the sphinx rendered scikit-learn.org. See: https://github.com/scikit-learn/scikit-learn/issues/21755 */display: inline-block !important;position: relative;}#sk-container-id-1 div.sk-text-repr-fallback {display: none;}</style><div id=\"sk-container-id-1\" class=\"sk-top-container\"><div class=\"sk-text-repr-fallback\"><pre>SVC(kernel=&#x27;linear&#x27;)</pre><b>In a Jupyter environment, please rerun this cell to show the HTML representation or trust the notebook. <br />On GitHub, the HTML representation is unable to render, please try loading this page with nbviewer.org.</b></div><div class=\"sk-container\" hidden><div class=\"sk-item\"><div class=\"sk-estimator sk-toggleable\"><input class=\"sk-toggleable__control sk-hidden--visually\" id=\"sk-estimator-id-1\" type=\"checkbox\" checked><label for=\"sk-estimator-id-1\" class=\"sk-toggleable__label sk-toggleable__label-arrow\">SVC</label><div class=\"sk-toggleable__content\"><pre>SVC(kernel=&#x27;linear&#x27;)</pre></div></div></div></div></div>"
      ],
      "text/plain": [
       "SVC(kernel='linear')"
      ]
     },
     "execution_count": 5,
     "metadata": {},
     "output_type": "execute_result"
    }
   ],
   "source": [
    "#inserção dos dados nos algoritmos\n",
    "#SVM\n",
    "svc = SVC(kernel='linear')\n",
    "svc.fit(treino_x_vetor, treino_y)\n"
   ]
  },
  {
   "cell_type": "code",
   "execution_count": 6,
   "metadata": {},
   "outputs": [
    {
     "data": {
      "text/html": [
       "<style>#sk-container-id-2 {color: black;background-color: white;}#sk-container-id-2 pre{padding: 0;}#sk-container-id-2 div.sk-toggleable {background-color: white;}#sk-container-id-2 label.sk-toggleable__label {cursor: pointer;display: block;width: 100%;margin-bottom: 0;padding: 0.3em;box-sizing: border-box;text-align: center;}#sk-container-id-2 label.sk-toggleable__label-arrow:before {content: \"▸\";float: left;margin-right: 0.25em;color: #696969;}#sk-container-id-2 label.sk-toggleable__label-arrow:hover:before {color: black;}#sk-container-id-2 div.sk-estimator:hover label.sk-toggleable__label-arrow:before {color: black;}#sk-container-id-2 div.sk-toggleable__content {max-height: 0;max-width: 0;overflow: hidden;text-align: left;background-color: #f0f8ff;}#sk-container-id-2 div.sk-toggleable__content pre {margin: 0.2em;color: black;border-radius: 0.25em;background-color: #f0f8ff;}#sk-container-id-2 input.sk-toggleable__control:checked~div.sk-toggleable__content {max-height: 200px;max-width: 100%;overflow: auto;}#sk-container-id-2 input.sk-toggleable__control:checked~label.sk-toggleable__label-arrow:before {content: \"▾\";}#sk-container-id-2 div.sk-estimator input.sk-toggleable__control:checked~label.sk-toggleable__label {background-color: #d4ebff;}#sk-container-id-2 div.sk-label input.sk-toggleable__control:checked~label.sk-toggleable__label {background-color: #d4ebff;}#sk-container-id-2 input.sk-hidden--visually {border: 0;clip: rect(1px 1px 1px 1px);clip: rect(1px, 1px, 1px, 1px);height: 1px;margin: -1px;overflow: hidden;padding: 0;position: absolute;width: 1px;}#sk-container-id-2 div.sk-estimator {font-family: monospace;background-color: #f0f8ff;border: 1px dotted black;border-radius: 0.25em;box-sizing: border-box;margin-bottom: 0.5em;}#sk-container-id-2 div.sk-estimator:hover {background-color: #d4ebff;}#sk-container-id-2 div.sk-parallel-item::after {content: \"\";width: 100%;border-bottom: 1px solid gray;flex-grow: 1;}#sk-container-id-2 div.sk-label:hover label.sk-toggleable__label {background-color: #d4ebff;}#sk-container-id-2 div.sk-serial::before {content: \"\";position: absolute;border-left: 1px solid gray;box-sizing: border-box;top: 0;bottom: 0;left: 50%;z-index: 0;}#sk-container-id-2 div.sk-serial {display: flex;flex-direction: column;align-items: center;background-color: white;padding-right: 0.2em;padding-left: 0.2em;position: relative;}#sk-container-id-2 div.sk-item {position: relative;z-index: 1;}#sk-container-id-2 div.sk-parallel {display: flex;align-items: stretch;justify-content: center;background-color: white;position: relative;}#sk-container-id-2 div.sk-item::before, #sk-container-id-2 div.sk-parallel-item::before {content: \"\";position: absolute;border-left: 1px solid gray;box-sizing: border-box;top: 0;bottom: 0;left: 50%;z-index: -1;}#sk-container-id-2 div.sk-parallel-item {display: flex;flex-direction: column;z-index: 1;position: relative;background-color: white;}#sk-container-id-2 div.sk-parallel-item:first-child::after {align-self: flex-end;width: 50%;}#sk-container-id-2 div.sk-parallel-item:last-child::after {align-self: flex-start;width: 50%;}#sk-container-id-2 div.sk-parallel-item:only-child::after {width: 0;}#sk-container-id-2 div.sk-dashed-wrapped {border: 1px dashed gray;margin: 0 0.4em 0.5em 0.4em;box-sizing: border-box;padding-bottom: 0.4em;background-color: white;}#sk-container-id-2 div.sk-label label {font-family: monospace;font-weight: bold;display: inline-block;line-height: 1.2em;}#sk-container-id-2 div.sk-label-container {text-align: center;}#sk-container-id-2 div.sk-container {/* jupyter's `normalize.less` sets `[hidden] { display: none; }` but bootstrap.min.css set `[hidden] { display: none !important; }` so we also need the `!important` here to be able to override the default hidden behavior on the sphinx rendered scikit-learn.org. See: https://github.com/scikit-learn/scikit-learn/issues/21755 */display: inline-block !important;position: relative;}#sk-container-id-2 div.sk-text-repr-fallback {display: none;}</style><div id=\"sk-container-id-2\" class=\"sk-top-container\"><div class=\"sk-text-repr-fallback\"><pre>DecisionTreeClassifier()</pre><b>In a Jupyter environment, please rerun this cell to show the HTML representation or trust the notebook. <br />On GitHub, the HTML representation is unable to render, please try loading this page with nbviewer.org.</b></div><div class=\"sk-container\" hidden><div class=\"sk-item\"><div class=\"sk-estimator sk-toggleable\"><input class=\"sk-toggleable__control sk-hidden--visually\" id=\"sk-estimator-id-2\" type=\"checkbox\" checked><label for=\"sk-estimator-id-2\" class=\"sk-toggleable__label sk-toggleable__label-arrow\">DecisionTreeClassifier</label><div class=\"sk-toggleable__content\"><pre>DecisionTreeClassifier()</pre></div></div></div></div></div>"
      ],
      "text/plain": [
       "DecisionTreeClassifier()"
      ]
     },
     "execution_count": 6,
     "metadata": {},
     "output_type": "execute_result"
    }
   ],
   "source": [
    "#Decision Tree\n",
    "dec_tree = DecisionTreeClassifier()\n",
    "dec_tree.fit(treino_x_vetor, treino_y)"
   ]
  },
  {
   "cell_type": "code",
   "execution_count": 8,
   "metadata": {},
   "outputs": [
    {
     "data": {
      "text/html": [
       "<style>#sk-container-id-3 {color: black;background-color: white;}#sk-container-id-3 pre{padding: 0;}#sk-container-id-3 div.sk-toggleable {background-color: white;}#sk-container-id-3 label.sk-toggleable__label {cursor: pointer;display: block;width: 100%;margin-bottom: 0;padding: 0.3em;box-sizing: border-box;text-align: center;}#sk-container-id-3 label.sk-toggleable__label-arrow:before {content: \"▸\";float: left;margin-right: 0.25em;color: #696969;}#sk-container-id-3 label.sk-toggleable__label-arrow:hover:before {color: black;}#sk-container-id-3 div.sk-estimator:hover label.sk-toggleable__label-arrow:before {color: black;}#sk-container-id-3 div.sk-toggleable__content {max-height: 0;max-width: 0;overflow: hidden;text-align: left;background-color: #f0f8ff;}#sk-container-id-3 div.sk-toggleable__content pre {margin: 0.2em;color: black;border-radius: 0.25em;background-color: #f0f8ff;}#sk-container-id-3 input.sk-toggleable__control:checked~div.sk-toggleable__content {max-height: 200px;max-width: 100%;overflow: auto;}#sk-container-id-3 input.sk-toggleable__control:checked~label.sk-toggleable__label-arrow:before {content: \"▾\";}#sk-container-id-3 div.sk-estimator input.sk-toggleable__control:checked~label.sk-toggleable__label {background-color: #d4ebff;}#sk-container-id-3 div.sk-label input.sk-toggleable__control:checked~label.sk-toggleable__label {background-color: #d4ebff;}#sk-container-id-3 input.sk-hidden--visually {border: 0;clip: rect(1px 1px 1px 1px);clip: rect(1px, 1px, 1px, 1px);height: 1px;margin: -1px;overflow: hidden;padding: 0;position: absolute;width: 1px;}#sk-container-id-3 div.sk-estimator {font-family: monospace;background-color: #f0f8ff;border: 1px dotted black;border-radius: 0.25em;box-sizing: border-box;margin-bottom: 0.5em;}#sk-container-id-3 div.sk-estimator:hover {background-color: #d4ebff;}#sk-container-id-3 div.sk-parallel-item::after {content: \"\";width: 100%;border-bottom: 1px solid gray;flex-grow: 1;}#sk-container-id-3 div.sk-label:hover label.sk-toggleable__label {background-color: #d4ebff;}#sk-container-id-3 div.sk-serial::before {content: \"\";position: absolute;border-left: 1px solid gray;box-sizing: border-box;top: 0;bottom: 0;left: 50%;z-index: 0;}#sk-container-id-3 div.sk-serial {display: flex;flex-direction: column;align-items: center;background-color: white;padding-right: 0.2em;padding-left: 0.2em;position: relative;}#sk-container-id-3 div.sk-item {position: relative;z-index: 1;}#sk-container-id-3 div.sk-parallel {display: flex;align-items: stretch;justify-content: center;background-color: white;position: relative;}#sk-container-id-3 div.sk-item::before, #sk-container-id-3 div.sk-parallel-item::before {content: \"\";position: absolute;border-left: 1px solid gray;box-sizing: border-box;top: 0;bottom: 0;left: 50%;z-index: -1;}#sk-container-id-3 div.sk-parallel-item {display: flex;flex-direction: column;z-index: 1;position: relative;background-color: white;}#sk-container-id-3 div.sk-parallel-item:first-child::after {align-self: flex-end;width: 50%;}#sk-container-id-3 div.sk-parallel-item:last-child::after {align-self: flex-start;width: 50%;}#sk-container-id-3 div.sk-parallel-item:only-child::after {width: 0;}#sk-container-id-3 div.sk-dashed-wrapped {border: 1px dashed gray;margin: 0 0.4em 0.5em 0.4em;box-sizing: border-box;padding-bottom: 0.4em;background-color: white;}#sk-container-id-3 div.sk-label label {font-family: monospace;font-weight: bold;display: inline-block;line-height: 1.2em;}#sk-container-id-3 div.sk-label-container {text-align: center;}#sk-container-id-3 div.sk-container {/* jupyter's `normalize.less` sets `[hidden] { display: none; }` but bootstrap.min.css set `[hidden] { display: none !important; }` so we also need the `!important` here to be able to override the default hidden behavior on the sphinx rendered scikit-learn.org. See: https://github.com/scikit-learn/scikit-learn/issues/21755 */display: inline-block !important;position: relative;}#sk-container-id-3 div.sk-text-repr-fallback {display: none;}</style><div id=\"sk-container-id-3\" class=\"sk-top-container\"><div class=\"sk-text-repr-fallback\"><pre>LogisticRegression()</pre><b>In a Jupyter environment, please rerun this cell to show the HTML representation or trust the notebook. <br />On GitHub, the HTML representation is unable to render, please try loading this page with nbviewer.org.</b></div><div class=\"sk-container\" hidden><div class=\"sk-item\"><div class=\"sk-estimator sk-toggleable\"><input class=\"sk-toggleable__control sk-hidden--visually\" id=\"sk-estimator-id-3\" type=\"checkbox\" checked><label for=\"sk-estimator-id-3\" class=\"sk-toggleable__label sk-toggleable__label-arrow\">LogisticRegression</label><div class=\"sk-toggleable__content\"><pre>LogisticRegression()</pre></div></div></div></div></div>"
      ],
      "text/plain": [
       "LogisticRegression()"
      ]
     },
     "execution_count": 8,
     "metadata": {},
     "output_type": "execute_result"
    }
   ],
   "source": [
    "#Regressão logística\n",
    "log_reg = LogisticRegression()\n",
    "log_reg.fit(treino_x_vetor, treino_y)"
   ]
  },
  {
   "cell_type": "code",
   "execution_count": 10,
   "metadata": {},
   "outputs": [
    {
     "name": "stdout",
     "output_type": "stream",
     "text": [
      "0.8964\n",
      "0.7228\n",
      "0.8941\n"
     ]
    }
   ],
   "source": [
    "#Mean Accuracy\n",
    "print(svc.score(teste_x_vetor, teste_y))\n",
    "print(dec_tree.score(teste_x_vetor, teste_y))\n",
    "print(log_reg.score(teste_x_vetor, teste_y))"
   ]
  },
  {
   "attachments": {},
   "cell_type": "markdown",
   "metadata": {},
   "source": [
    "Como o resultado das árvores de decisão(0.7228) foi consideravelmente abaixo daqueles apresentados pelo SVM (0.8964) e regressão logística (0.8941), utilizaremos apenas esses dois últimos para os demais testes de comparação."
   ]
  },
  {
   "cell_type": "code",
   "execution_count": 11,
   "metadata": {},
   "outputs": [
    {
     "name": "stdout",
     "output_type": "stream",
     "text": [
      "[0.89805156 0.89469404]\n",
      "[0.89655172 0.89152924]\n"
     ]
    }
   ],
   "source": [
    "#F1 score\n",
    "print(f1_score(teste_y, svc.predict(teste_x_vetor), \n",
    "         labels=['positive', 'negative'], average=None))\n",
    "print(f1_score(teste_y, log_reg.predict(teste_x_vetor), \n",
    "         labels=['positive', 'negative'], average=None))"
   ]
  },
  {
   "attachments": {},
   "cell_type": "markdown",
   "metadata": {},
   "source": [
    "Scores bastante semelhantes/próximos, continuando uma pequena vantagem para o SVM."
   ]
  },
  {
   "cell_type": "code",
   "execution_count": 12,
   "metadata": {},
   "outputs": [
    {
     "name": "stdout",
     "output_type": "stream",
     "text": [
      "              precision    recall  f1-score   support\n",
      "\n",
      "    positive       0.89      0.91      0.90      5039\n",
      "    negative       0.90      0.89      0.89      4961\n",
      "\n",
      "    accuracy                           0.90     10000\n",
      "   macro avg       0.90      0.90      0.90     10000\n",
      "weighted avg       0.90      0.90      0.90     10000\n",
      "\n",
      "              precision    recall  f1-score   support\n",
      "\n",
      "    positive       0.88      0.91      0.90      5039\n",
      "    negative       0.91      0.88      0.89      4961\n",
      "\n",
      "    accuracy                           0.89     10000\n",
      "   macro avg       0.89      0.89      0.89     10000\n",
      "weighted avg       0.89      0.89      0.89     10000\n",
      "\n"
     ]
    }
   ],
   "source": [
    "#Classification report\n",
    "print(classification_report(teste_y,\n",
    "                            svc.predict(teste_x_vetor),\n",
    "                            labels=['positive', 'negative']))\n",
    "print(classification_report(teste_y,\n",
    "                            log_reg.predict(teste_x_vetor),\n",
    "                            labels=['positive', 'negative']))"
   ]
  },
  {
   "attachments": {},
   "cell_type": "markdown",
   "metadata": {},
   "source": [
    "Novamente, uma pequena margem de vantagem para o SVM. Como sua accuracy foi maior que 0.895, foi arredondada para 0.9.  "
   ]
  },
  {
   "cell_type": "code",
   "execution_count": 14,
   "metadata": {},
   "outputs": [],
   "source": [
    "#Confusion matrix\n",
    "conf_mat_svc = confusion_matrix(teste_y,\n",
    "                            svc.predict(teste_x_vetor),\n",
    "                            labels=['positive', 'negative'])\n",
    "conf_mat_logreg = confusion_matrix(teste_y,\n",
    "                            log_reg.predict(teste_x_vetor),\n",
    "                            labels=['positive', 'negative'])"
   ]
  },
  {
   "cell_type": "code",
   "execution_count": 16,
   "metadata": {},
   "outputs": [
    {
     "name": "stdout",
     "output_type": "stream",
     "text": [
      "[[4563  476]\n",
      " [ 560 4401]]\n",
      "[[4589  450]\n",
      " [ 609 4352]]\n"
     ]
    }
   ],
   "source": [
    "print(conf_mat_svc)\n",
    "print(conf_mat_logreg)"
   ]
  },
  {
   "attachments": {},
   "cell_type": "markdown",
   "metadata": {},
   "source": [
    "Outro resultado próximo. De forma geral, baseando-se nos resultados, o SVM apresenta melhor capacidade de previsão, ainda que ligeiramente. Entretanto, pode-se ponderar o uso da regressão logística em seu lugar, tendo em vista que, apesar de ser ligeiramente menos preciso, apresenta um tempo de processamento menor, em especial no treinamento do modelo (no caso, foi efetivamente mais de 70x mais rápido do que o SVM)."
   ]
  },
  {
   "attachments": {},
   "cell_type": "markdown",
   "metadata": {},
   "source": [
    "Temos, então, treinado um modelo de previsão de sentimento de análise de filmes em inglês, baseado em 50 mil análises igualmente distribuídas entre positivas e negativas, em uma proporção treino/teste de 80/20. O dataset foi atualizado pela última vez 4 anos atrás. Testaremos o modelo, agora, com algumas poucas avaliações do IMDB para o filme [Dungeons & Dragons: Honor Among Thieves](https://www.imdb.com/title/tt2906216/), lançado em 2023. Para os fins desses testes finais, consideraremos uma review como \"positiva\" se tiver notas de 7 a 10, sendo negativas as demais. "
   ]
  },
  {
   "cell_type": "code",
   "execution_count": 17,
   "metadata": {},
   "outputs": [
    {
     "name": "stdout",
     "output_type": "stream",
     "text": [
      "['positive']\n"
     ]
    }
   ],
   "source": [
    "#Começando com uma análise de 10/10, https://www.imdb.com/review/rw8940209\n",
    "print(svc.predict(tfidf.transform([\"It's not off, and you can say that a movie lives up to a trailer when you have a trailer as action, packed, funny, and full of Easter eggs, as dungeons & dragons: honor among thieves. However, somehow, this movie did exactly that. It is absolutely hilarious, it has all the charm and banter Of guardians of the Galaxy with incredible action choreography like The Man with the Iron Fist, and a dynamic and love-to-hate villain with a fantastic performance. This movie is extremely fun. It's rare that a movie is both entertaining and good - but this movie really is everything you could ever want it to be. Fans of the game will be delighted with the endless references and Easter eggs, and while the movie does play fast and loose with the rules, one has to in order to make a film work, and it worked brilliantly. Pine and Rodriguez have a surprising on screen chemistry and this lovable group of adventures will surely win over the hearts of fans of critical role as well. I highly recommend this movie to any fans of action and fantasy.\"])))"
   ]
  },
  {
   "cell_type": "code",
   "execution_count": 19,
   "metadata": {},
   "outputs": [
    {
     "name": "stdout",
     "output_type": "stream",
     "text": [
      "['positive']\n"
     ]
    }
   ],
   "source": [
    "#Ainda no lado positivo, mas indo para uma 8/10, https://www.imdb.com/review/rw8963551\n",
    "print(svc.predict(tfidf.transform([\"A surprisingly strong blockbuster - surpassing my initial low expectations (I'm not even slightly a gamer, don't know the source material & am well aware adaptations usually tend to falter when put to the big screen) - so despite my inability to comment on accuracy when translating ideas from one format to another, I am genuinely impressed by the strength of Dungeons & Dragons (in terms of judging the piece solely as a movie, in & of itself), from first impressions. Although far from being a masterpiece, the fantasy film doesn't necessarily have to be in order for it to be an entertaining watch (or valid, as Honour Amongst Thieves isn't trying to be profound - quite the opposite; revelling in the fact that it never takes the story too seriously - resulting in some honestly amusing moments that triggered audible laughter from the audience, repeatedly) & there are a plethora of attributes to appreciate; the genuinely funny, self referential humour, sharp wit, continuous narrative pay-offs, effective utilisations of practical FX throughout (blended amongst VFX for maximum impact) & ingeniously inventive magical sequences (of pure cinematic spectacle) that advance the plot brilliantly & enhance fight scenes - in ways no previous filmmakers have seemingly ever thought to try before (despite the existence of numerous / similar brands like Harry Potter, Doctor Strange etc. The wizardry here is actually uniquely realised & visually original) & therefore, I seriously recommend seeing the release at the cinema - since it's well worth your time.\"])))"
   ]
  },
  {
   "cell_type": "code",
   "execution_count": 20,
   "metadata": {},
   "outputs": [
    {
     "name": "stdout",
     "output_type": "stream",
     "text": [
      "['positive']\n"
     ]
    }
   ],
   "source": [
    "#Indo para o limite do que consideramos \"positivo\", 7/10, https://www.imdb.com/review/rw8954230\n",
    "print(svc.predict(tfidf.transform([\"I was lucky enough to catch a sneak preview of the Movie. I have played Dungeons and Dragons since the basic game came out in the late 70ies. So far, every adaptation I have seen trying to turn the D&D world into a movie has fallen flat on its face mostly because it was trying to appeal to way too many audiences and include way to much modern BS. This movie was decent, It has a very adventurous feel and definitely played to both fans of the game and those who have never played the game. I like the fact that they didn't spoil the movie with any modern elements like the movies of the past had tried to do. It had a good story and great special effects. Is it the story I would have told? Nope but I don't have a $100,000,000 to make a movie and my movie would have catered more to the D&D world and player. It also most likely would have been a complete flop because it's a very small niche market! They don't call this the movie business for nothing and I understand that. Let's face it, we won't see another movie if it doesn't make money! I would definitely pay to see a series of this type of movie providing they stay on the same path they are on. The movie was far from perfect from a game player stance, but the movie has been the truest to the spirit of the game to date. Game players will be divided on the movie's success but everyone else will most likely be entertained.\"])))"
   ]
  },
  {
   "cell_type": "code",
   "execution_count": 21,
   "metadata": {},
   "outputs": [
    {
     "name": "stdout",
     "output_type": "stream",
     "text": [
      "['negative']\n"
     ]
    }
   ],
   "source": [
    "#Iniciando o que consideraríamos avaliações negativas, 5/10, https://www.imdb.com/review/rw9007949\n",
    "print(svc.predict(tfidf.transform([\"Despite its rich source material and an enthusiastic cast, the film falls flat in its execution, succumbing to a string of cliches and predictable story beats that leave audiences feeling underwhelmed. The film's narrative structure is a textbook example of the team of heroes trope, complete with characters who possess specific skill sets needed to overcome various obstacles. However, the film's reliance on such a formulaic approach results in a sense of déjà vu for viewers who are familiar with fantasy adventures. To its detriment, the film fails to deviate from or subvert the expected conventions, leading to a predictable and lackluster experience. The filmmakers' affection for the source material is apparent, but it doesn't translate into a well-crafted movie. The film's visual design lacks creativity, with Forge's city resembling a generic fantasy video game setting. The film's use of CGI is at times jarring, with magic-driven sequences feeling detached from the more grounded practical effects. The world-building falls short, and the film misses the opportunity to create immersive and visually captivating environments. While the cast delivers competent performances, their efforts are hindered by the film's shortcomings. Pine's rough charisma, Rodriguez's physicality, and Grant's smarminess are all on display, but they are not enough to elevate the material. The film suffers from a lack of substance, and despite its lengthy runtime of 139 minutes, it feels devoid of depth and genuine emotion. The characters are constantly moving from one plan to the next, but the repetitive structure leaves little room for meaningful development or stakes.\"])))"
   ]
  },
  {
   "cell_type": "code",
   "execution_count": 22,
   "metadata": {},
   "outputs": [
    {
     "name": "stdout",
     "output_type": "stream",
     "text": [
      "['negative']\n"
     ]
    }
   ],
   "source": [
    "#Uma segunda review de 5/10, para tentar um falso positivo, https://www.imdb.com/review/rw8939818\n",
    "print(svc.predict(tfidf.transform([\"Dungeons & Dragons: Honor Among Thieves is advertised as a movie for everyone, DND player or not. This made me hopeful for the movie, however I was disappointed when I found myself getting bored and lost at points throughout it. The world is interesting, but there wasn't much time spent on accustoming the viewer to it. You're pretty much just thrown in, which I definitely could have looked past if the story held a grip on me, but I found it to be slightly cliché and uninteresting. Take this for what you will, as I'm not really an action movie person in the first place, but I was definitely lost to daydreaming during some of the middle parts. The action to meaningful story ratio simply wasn't my cup of tea. The actors and actresses all give great preformances, though. Justice Smith's character goes through a fulfilling character arc, one of the things I liked, and Hugh Grant plays a very comical and convincing villian. If you are familiar with DND and/or enjoy movies with a lot of action, I would give this a watch, but it wasn't for me.\"])))"
   ]
  },
  {
   "cell_type": "code",
   "execution_count": 23,
   "metadata": {},
   "outputs": [
    {
     "name": "stdout",
     "output_type": "stream",
     "text": [
      "['negative']\n"
     ]
    }
   ],
   "source": [
    "#Último teste, uma review com pitada de sarcasmo, mas de 2/10, https://www.imdb.com/review/rw8973689\n",
    "print(svc.predict(tfidf.transform([\"I really tried to like the film. So many great reviews here, but in the end it's always a matter of taste. I thought it was really boring, no one in our cinema laughed a lot or shared in the excitement and somehow everyone was glad when it was over. The budget was big, the expectations big, what could go wrong? We know a lot now. The posed drama doesn't fit the one-liners, the story itself has no substance and afterwards I watched the trailer, although I never watch trailers and it's true, that's all you need to see. It's a film that relies on a few familiar faces and a lot of bad CGI. It has no charm and will probably disappear into the annals of history. It's a shame about the wasted opportunity. If you liked Thor 4, you can watch this film without hesitation.\"])))"
   ]
  },
  {
   "cell_type": "code",
   "execution_count": null,
   "metadata": {},
   "outputs": [],
   "source": []
  }
 ],
 "metadata": {
  "kernelspec": {
   "display_name": "Python 3",
   "language": "python",
   "name": "python3"
  },
  "language_info": {
   "codemirror_mode": {
    "name": "ipython",
    "version": 3
   },
   "file_extension": ".py",
   "mimetype": "text/x-python",
   "name": "python",
   "nbconvert_exporter": "python",
   "pygments_lexer": "ipython3",
   "version": "3.11.3"
  },
  "orig_nbformat": 4
 },
 "nbformat": 4,
 "nbformat_minor": 2
}
